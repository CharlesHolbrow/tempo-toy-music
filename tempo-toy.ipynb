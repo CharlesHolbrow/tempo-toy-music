{
 "cells": [
  {
   "cell_type": "raw",
   "metadata": {},
   "source": [
    "---\n",
    "date: 2016-10-11\n",
    "hide: true\n",
    "---"
   ]
  },
  {
   "cell_type": "code",
   "execution_count": 1,
   "metadata": {
    "collapsed": false
   },
   "outputs": [],
   "source": [
    "%matplotlib inline\n",
    "import matplotlib.pyplot as plt\n",
    "import numpy as np\n",
    "from midiutil import MidiFile\n",
    "import math\n",
    "from math import pow"
   ]
  },
  {
   "cell_type": "code",
   "execution_count": 10,
   "metadata": {
    "collapsed": false
   },
   "outputs": [],
   "source": [
    "def getTransitionBeats(bpm0, bpm1, staticBeats, changeBeats):\n",
    "    # duration in minutes of tempo ramp\n",
    "    duration = 1./bpm0 * staticBeats\n",
    "\n",
    "    # We know how long our change will take.\n",
    "    # Find our starting acceleration\n",
    "    numerator = (6. * changeBeats) - 2. * duration * (bpm1 + (2. * bpm0))\n",
    "    startingAcceleration = numerator / (duration * duration)\n",
    "\n",
    "    # Solve equation 3.2 to find the final acceleration\n",
    "    numerator = 2. * (bpm1 - bpm0 - (startingAcceleration * duration))\n",
    "    finalAcceleration = numerator / pow(duration, 2)\n",
    "    # We now have starting/final Acceleration\n",
    "\n",
    "    # Calculate the number of beats elapsed in the tempo\n",
    "    # ramp given a time in minutes\n",
    "    def beatsElapsed(acc0, acc1, time):\n",
    "        part1 = acc0 * pow(time, 2.) / 2.\n",
    "        part2 = acc1 * pow(time, 3.) / 6.\n",
    "        return bpm0 * time + part1 + part2\n",
    "    \n",
    "    # 1. The number of beats that have elapsed in our tempo ramp \n",
    "    beatPosition = []\n",
    "    # 2. Time elapsed in minutes\n",
    "    timeElapsed = []\n",
    "\n",
    "    # Populate the two parallel arrays\n",
    "    for time in np.arange(0, duration, 0.000001):\n",
    "        timeElapsed.append(time)\n",
    "        beatPosition.append(beatsElapsed(startingAcceleration, finalAcceleration, time))\n",
    "    \n",
    "    # np.arange goes up to, but does not include the max value.\n",
    "    # However, we know the max value, and the max duration\n",
    "    beatPosition.append(changeBeats)\n",
    "    timeElapsed.append(duration)\n",
    "\n",
    "    times = []\n",
    "    lookingForBeat = 0\n",
    "    for beatsElapsed, time in zip(beatPosition, timeElapsed):\n",
    "        if beatsElapsed >= lookingForBeat:\n",
    "            times.append(time)\n",
    "            lookingForBeat += 1\n",
    "\n",
    "    return np.array(times)\n",
    "\n",
    "def getStaticBeats(bpm, end):\n",
    "    times = [float(i) / bpm for i in range(int(end + 1))]\n",
    "    return np.array(times)\n",
    "\n",
    "def getDiffs(array):\n",
    "    results = []\n",
    "    for i in range(len(array) - 1):\n",
    "        results.append(array[i + 1] - array[i])\n",
    "    return np.array(results)\n",
    "\n",
    "def midiRamp(midiFile, ratio, staticBeats, changeBeats, pitch=60):\n",
    "    \"\"\"\n",
    "    Given a MIDIFile instance from the midiutil package, add a tempo ramp\n",
    "    from the midifile's tempo to a new tempo.\n",
    "    \n",
    "    Args:\n",
    "        midiFile (MIDIFile): Add the tempo ramp to the beginning of this object\n",
    "        ratio    (float): ramp to this tempo times the original tempo\n",
    "        staticBeats (int): the duration of the ramp measured in beats at initial bpm\n",
    "        changeBeats (int): number of beats in the changing tempo\n",
    "        \n",
    "    \"\"\"\n",
    "    bpm0 = 60\n",
    "    bpm1 = int(ratio * bpm0)\n",
    "    rampBeatTimes = getTransitionBeats(bpm0, bpm1, staticBeats, changeBeats)\n",
    "    rampBeatsInBeats = rampBeatTimes * bpm0\n",
    "    \n",
    "    channel  = 0\n",
    "    duration = 0.5 # In beats\n",
    "    volume   = 100 # 0-127, as per the MIDI standard\n",
    "    for t in rampBeatsInBeats:\n",
    "        MyMIDI.addNote(track, channel, pitch, t, duration, volume)\n",
    "    \n",
    "\n",
    "    "
   ]
  },
  {
   "cell_type": "code",
   "execution_count": 3,
   "metadata": {
    "collapsed": false
   },
   "outputs": [],
   "source": [
    "bpm0 = 60. # starting bpm\n",
    "bpm1 = 90. # final bpm\n",
    "staticBeats = 32. # \n",
    "changeBeats = 40. # number of beats for changing tempo\n",
    "rampBeatTimes = getTransitionBeats(bpm0, bpm1, staticBeats, changeBeats)\n",
    "staticBeatTimes = getStaticBeats(bpm0, staticBeats)\n",
    "rampBeatDurations = getDiffs(rampBeatTimes)\n",
    "rampBeatsInBeats = rampBeatTimes * bpm0"
   ]
  },
  {
   "cell_type": "code",
   "execution_count": 4,
   "metadata": {
    "collapsed": false
   },
   "outputs": [
    {
     "data": {
      "text/plain": [
       "[0, 32, -8, 8]"
      ]
     },
     "execution_count": 4,
     "metadata": {},
     "output_type": "execute_result"
    },
    {
     "data": {
      "image/png": "[encoded data removed]",
      "text/plain": [
       "<matplotlib.figure.Figure at 0x1065277f0>"
      ]
     },
     "metadata": {},
     "output_type": "display_data"
    }
   ],
   "source": [
    "%matplotlib inline\n",
    "\n",
    "z1 = np.ones(len(rampBeatTimes))\n",
    "plt.plot(rampBeatTimes * bpm0, z1, 'o')\n",
    "\n",
    "z2 = np.zeros(len(staticBeatTimes))\n",
    "plt.plot(staticBeatTimes * bpm0, z2, 'o')\n",
    "plt.axis([0, 32, -8, 8])"
   ]
  },
  {
   "cell_type": "code",
   "execution_count": 12,
   "metadata": {
    "collapsed": false
   },
   "outputs": [],
   "source": [
    "# One track, defaults to format 1 (tempo track automatically created)\n",
    "MyMIDI = MidiFile.MIDIFile(1, adjust_origin=False)\n",
    "track    = 0\n",
    "time     = 0   # In beats\n",
    "tempo    = 120 # In BPM\n",
    "MyMIDI.addTempo(track, time, tempo)\n",
    "\n",
    "chord0    = [52, 55, 60, 62, 64, 69]\n",
    "rampBeats = [39, 40, 41, 42, 43, 44]\n",
    "\n",
    "rampBeats.reverse()\n",
    "\n",
    "for note, beats in zip(chord0, rampBeats):\n",
    "    midiRamp(MyMIDI, 2, 32, beats, note)\n",
    "\n",
    "with open(\"./session/tempo-ramps2.mid\", \"wb\") as output_file:\n",
    "    MyMIDI.writeFile(output_file)"
   ]
  },
  {
   "cell_type": "code",
   "execution_count": 18,
   "metadata": {
    "collapsed": true
   },
   "outputs": [],
   "source": [
    "# One track, defaults to format 1 (tempo track automatically created)\n",
    "MyMIDI = MidiFile.MIDIFile(1, adjust_origin=False)\n",
    "track    = 0\n",
    "time     = 0   # In beats\n",
    "tempo    = 120 # In BPM\n",
    "MyMIDI.addTempo(track, time, tempo)\n",
    "\n",
    "midiRamp(MyMIDI, 1.5, 16, 20, 62)\n",
    "\n",
    "for i in np.arange(0, 32):\n",
    "    MyMIDI.addNote(0, 0, 60, i, 0.5, 100)\n",
    "\n",
    "with open(\"./session/tempo-ramps4.mid\", \"wb\") as output_file:\n",
    "    MyMIDI.writeFile(output_file)\n"
   ]
  },
  {
   "cell_type": "code",
   "execution_count": 20,
   "metadata": {
    "collapsed": true
   },
   "outputs": [],
   "source": [
    "# One track, defaults to format 1 (tempo track automatically created)\n",
    "MyMIDI = MidiFile.MIDIFile(1, adjust_origin=False)\n",
    "track    = 0\n",
    "time     = 0   # In beats\n",
    "tempo    = 120 # In BPM\n",
    "MyMIDI.addTempo(track, time, tempo)\n",
    "\n",
    "midiRamp(MyMIDI, 1.5, 16, 22, 62)\n",
    "\n",
    "for i in np.arange(0, 32):\n",
    "    MyMIDI.addNote(0, 0, 60, i, 0.2, 100)\n",
    "\n",
    "with open(\"./session/tempo-ramps4.mid\", \"wb\") as output_file:\n",
    "    MyMIDI.writeFile(output_file)\n"
   ]
  },
  {
   "cell_type": "code",
   "execution_count": null,
   "metadata": {
    "collapsed": true
   },
   "outputs": [],
   "source": []
  }
 ],
 "metadata": {
  "anaconda-cloud": {},
  "kernelspec": {
   "display_name": "Python [conda root]",
   "language": "python",
   "name": "conda-root-py"
  },
  "language_info": {
   "codemirror_mode": {
    "name": "ipython",
    "version": 3
   },
   "file_extension": ".py",
   "mimetype": "text/x-python",
   "name": "python",
   "nbconvert_exporter": "python",
   "pygments_lexer": "ipython3",
   "version": "3.4.5"
  }
 },
 "nbformat": 4,
 "nbformat_minor": 1
}
